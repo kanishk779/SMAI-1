{
 "cells": [
  {
   "cell_type": "markdown",
   "metadata": {},
   "source": [
    "**INSTRUCTIONS**"
   ]
  },
  {
   "cell_type": "markdown",
   "metadata": {},
   "source": [
    "\n",
    "\n",
    "1.  The assignment contains four questions. A few bonus questions are mentioned. \n",
    "2.   This assignment is due on **6th Feb, 23:59 **(**No Further extensions**).\n",
    "3.   Assignment must be implemented in Python 3 only.\n",
    "4.   You are allowed to use libraries for data preprocessing (numpy, pandas etc) and for evaluation metrics, data visualization (matplotlib etc.).\n",
    "5.   You will be evaluated not just on the overall performance of the model and also on the experimentation with hyper parameters, data prepossessing techniques etc.\n",
    "6.   The report file must be a well documented jupyter notebook, explaining the experiments you have performed, evaluation metrics and corresponding code. The code must run and be able to reproduce the accuracies, figures/graphs etc.\n",
    "7.   For all the questions, you must create a train-validation data split and test the hyperparameter tuning on the validation set. Your jupyter notebook must reflect the same.\n",
    "8.   Any attempts at **plagiarism will be penalized heavily**.\n",
    "9.   Make sure you run and save your notebooks before submission.\n",
    "10.  For question 3 of the Decision Trees section, output your model's depth first traversal into ```outputimp.txt``` and submit it along with the ipynb file.\n",
    "10. Naming convention for the ipynb file is ```<roll_number>_assign1.ipynb```\n",
    "11. Compress your submission files into a zip file with the naming convention: ```<roll_number>_assign1.zip``` and submit in the portal."
   ]
  },
  {
   "cell_type": "markdown",
   "metadata": {},
   "source": [
    "#**1) REGRESSION**\n",
    "\n",
    "Please find the Diamond Price Prediction Data set https://drive.google.com/drive/folders/1qE1tm3Ke3uotTyv6SUqruI09t-AkcwRK?usp=sharing. \"description.txt\" contains the feature description of data, \"diamonds.csv\" has the data."
   ]
  },
  {
   "cell_type": "code",
   "execution_count": 2,
   "metadata": {},
   "outputs": [],
   "source": [
    "import numpy as np\n",
    "import pandas as pd\n",
    "import matplotlib.pyplot as plt\n",
    "from sklearn.neighbors import KNeighborsRegressor\n",
    "from sklearn import preprocessing\n",
    "import math\n",
    "from sklearn.model_selection import train_test_split\n",
    "from sklearn.metrics import r2_score, mean_squared_error, mean_absolute_error\n",
    "import os\n",
    "import random"
   ]
  },
  {
   "cell_type": "code",
   "execution_count": 3,
   "metadata": {},
   "outputs": [],
   "source": [
    "def give_data(to_drop):\n",
    "    # To read data from diamonds.csv\n",
    "    headers = [\"carat\",\t\"cut\",\"color\",\"clarity\",\"depth\",\"table\",\"price\",\"x\",\"y\",\"z\"]\n",
    "    data = pd.read_csv('diamonds.csv', na_values='?',    \n",
    "             header=None,  names = headers) \n",
    "    data = data.reset_index(drop=True)\n",
    "    data = data.iloc[1:]\n",
    "    cut_dict = {'Fair':1, 'Good':2, 'Very Good':3, 'Premium':4, 'Ideal':5}\n",
    "    color_dict = {'J':1, 'I':2, 'H':3, 'G':4, 'F':5, 'E':6, 'D':7}\n",
    "    clarity_dict = {'I1':1, 'SI2':2, 'SI1':3, 'VS2': 4, 'VS1':5, 'VVS2':6, 'VVS1':7, 'IF':8}\n",
    "\n",
    "    create_nums = {'cut' : cut_dict, 'clarity':clarity_dict, 'color':color_dict }\n",
    "\n",
    "    data.replace(create_nums, inplace=True)\n",
    "\n",
    "    data = data.astype(np.float64, copy=True)\n",
    "\n",
    "    Y = data['price']\n",
    "    Y = Y.astype(np.float64)\n",
    "\n",
    "    data.drop(labels=to_drop, axis=1, inplace=True)\n",
    "    # TRAIN TEST SPLIT\n",
    "    X_train, X_test, Y_train, Y_test = train_test_split(data,  Y, test_size=0.20, random_state=40, shuffle=True)\n",
    "    X_train = np.array(X_train[:30000])  # sub-sampling the data as my machine cannot handle all of it.\n",
    "    Y_train = np.array(Y_train[:30000])\n",
    "    X_test = np.array(X_test[:6000])\n",
    "    Y_test = np.array(Y_test[:6000])\n",
    "    return X_train, X_test, Y_train, Y_test"
   ]
  },
  {
   "cell_type": "code",
   "execution_count": 4,
   "metadata": {},
   "outputs": [],
   "source": [
    "# ERROR METRICS\n",
    "def RSME(Y, Y_hat):\n",
    "    # Assumed that Y and Y_hat are one dimensional array\n",
    "    print('RSME metric : ', end='')\n",
    "    Y = np.array(Y)\n",
    "    Y_hat = np.array(Y_hat)\n",
    "    return np.sqrt(np.mean((Y - Y_hat)**2))/Y.shape[0]\n",
    "\n",
    "def MSE(Y, Y_hat):\n",
    "    # Assumed that Y and Y_hat are one dimensional array\n",
    "    print('MSE metric : ', end='')\n",
    "    Y = np.array(Y)\n",
    "    Y_hat = np.array(Y_hat)\n",
    "    return np.mean((Y - Y_hat)**2)/Y.shape[0]\n",
    "\n",
    "def MAE(Y, Y_hat):\n",
    "    # Assumed that Y and Y_hat are one dimensional array\n",
    "    print('MAE metric : ', end='')\n",
    "    Y = np.array(Y)\n",
    "    Y_hat = np.array(Y_hat)\n",
    "    return np.mean(np.abs(Y - Y_hat))/Y.shape[0]"
   ]
  },
  {
   "cell_type": "code",
   "execution_count": 5,
   "metadata": {},
   "outputs": [],
   "source": [
    "def give_mean(X):\n",
    "    return np.mean(X, axis=0) # take mean along columns\n",
    "\n",
    "def give_Variance(X):\n",
    "    return np.var(X, axis=0) # take variance along the columns\n",
    "\n",
    "def covariance_matrix(X):\n",
    "    return np.cov(X.T)  # gives the covariance of the columns"
   ]
  },
  {
   "cell_type": "markdown",
   "metadata": {},
   "source": [
    "**KNN Regression [Diamond Price Prediction Dataset]**"
   ]
  },
  {
   "cell_type": "markdown",
   "metadata": {},
   "source": [
    "1. a) Build a knn regression algorithm [using only python from scratch] to predict the price of diamonds."
   ]
  },
  {
   "cell_type": "code",
   "execution_count": 9,
   "metadata": {},
   "outputs": [],
   "source": [
    "# code for knn regression\n",
    "class KNNRegression:\n",
    "    def __init__(self, data=None, Y=None):\n",
    "        self.data = data  # the data is preprocessed already, normalized(if it is required), etc, numpy array\n",
    "        self.Y = data # numpy array\n",
    "    \n",
    "    def train(self, data, Y):\n",
    "        self.data = data\n",
    "        self.Y = Y\n",
    "        \n",
    "    def give_dist(self, X, Y, p=2):\n",
    "        dist = np.sum(np.abs(X - Y) ** p)\n",
    "        if p == 2:\n",
    "            return math.sqrt(dist)\n",
    "        else:\n",
    "            return dist\n",
    "    def dist_matrix_manhattan(self, X_test):\n",
    "        num_test = X_test.shape[0]\n",
    "        num_train = self.data.shape[0]\n",
    "        dist_mat = np.zeros((num_test, num_train))\n",
    "        for i in range(num_test):\n",
    "            dist_mat[i, :] = np.sum(np.abs(self.data - X_test[i, :]), axis=1)\n",
    "        return dist_mat\n",
    "        \n",
    "    def dist_matrix(self, X):\n",
    "        dists = -2 * np.dot(X, self.data.T) + np.sum(self.data**2, axis=1) + np.sum(X**2, axis=1)[:, np.newaxis]\n",
    "        return dists\n",
    "\n",
    "    def do_regression(self, dist_mat, k, p=2):\n",
    "        if p > 2 or p <= 0:\n",
    "            raise NotImplementedError('p can only take two values')\n",
    "        indices = np.argpartition(dist_mat, k)\n",
    "        indices = indices[:, :k]\n",
    "        values = np.take(self.Y, indices)\n",
    "        return np.mean(values, axis=1)  # take average along the rows"
   ]
  },
  {
   "cell_type": "code",
   "execution_count": 10,
   "metadata": {},
   "outputs": [
    {
     "name": "stdout",
     "output_type": "stream",
     "text": [
      "(6000,)\n",
      "RSME metric : 0.24426404341630936\n",
      "r2 score is :- 0.8682832208462565\n"
     ]
    }
   ],
   "source": [
    "X_train, X_test, Y_train, Y_test = give_data(['price', 'cut', 'clarity', 'color', 'depth', 'table'])\n",
    "regressor = KNNRegression()\n",
    "regressor.train(X_train, Y_train)\n",
    "dists = regressor.dist_matrix_manhattan(X_test)\n",
    "predicted = regressor.do_regression(dists, k=7)\n",
    "print(predicted.shape)\n",
    "print(RSME(Y_test, predicted))\n",
    "r2 = r2_score(Y_test, predicted)\n",
    "print('r2 score is :- {a}'.format(a=r2))"
   ]
  },
  {
   "cell_type": "markdown",
   "metadata": {},
   "source": [
    "1. b) Do we need to normalise data? [If so Does it make any difference?]."
   ]
  },
  {
   "cell_type": "code",
   "execution_count": 7,
   "metadata": {},
   "outputs": [
    {
     "name": "stdout",
     "output_type": "stream",
     "text": [
      "(6000,)\n",
      "RSME metric : 0.24673852650742942\n",
      "r2 score is :- 0.8656010263045751\n"
     ]
    }
   ],
   "source": [
    "# NORMALISE DATA\n",
    "mean = give_mean(X_train)\n",
    "var = give_Variance(X_train)\n",
    "X_train -= mean\n",
    "X_train /= var\n",
    "X_test -= mean\n",
    "X_test /= var\n",
    "\n",
    "regressor = KNNRegression()\n",
    "regressor.train(X_train, Y_train)\n",
    "dists = regressor.dist_matrix(X_test)\n",
    "predicted = regressor.do_regression(dists, k=7)\n",
    "print(predicted.shape)\n",
    "print(RSME(Y_test, predicted))\n",
    "r2 = r2_score(Y_test, predicted)\n",
    "print('r2 score is :- {a}'.format(a=r2))"
   ]
  },
  {
   "cell_type": "markdown",
   "metadata": {},
   "source": [
    "#### Answer\n",
    "Yes, it generally helps, but in this specific example it does not make much difference.\n",
    "\n",
    "For classification/Regression algorithms like **KNN**, we measure the **distances** between pairs of samples and these distances are influenced by the measurement units also. For example: Let’s say, we are applying KNN on a data set having 3 features.First feature ranging from 1-10, second from 1-20 and the last one ranging from 1-1000. In this case, most of the clusters will be generated based on the last feature as the difference between 1 to 10 and 1-20 are smaller as compared to 1-1000. To avoid this mis-classification or value prediction, we should normalize the feature variables."
   ]
  },
  {
   "cell_type": "code",
   "execution_count": 8,
   "metadata": {},
   "outputs": [
    {
     "name": "stdout",
     "output_type": "stream",
     "text": [
      "Manhattan Distance\n",
      "RSME metric : 0.24371112382925386\n",
      "r2 score is :- 0.8688788579116036\n",
      "Euclidean Distance\n",
      "RSME metric : 0.24673852650742942\n",
      "r2 score is :- 0.8656010263045751\n"
     ]
    }
   ],
   "source": [
    "# show all the experiments\n",
    "\n",
    "print('Manhattan Distance')\n",
    "dists = regressor.dist_matrix_manhattan(X_test)\n",
    "predicted = regressor.do_regression(dists, k=7)\n",
    "print(RSME(Y_test, predicted))\n",
    "r2 = r2_score(Y_test, predicted)\n",
    "print('r2 score is :- {a}'.format(a=r2))\n",
    "\n",
    "print('Euclidean Distance')\n",
    "dists = regressor.dist_matrix(X_test)\n",
    "predicted = regressor.do_regression(dists, k=7)\n",
    "print(RSME(Y_test, predicted))\n",
    "r2 = r2_score(Y_test, predicted)\n",
    "print('r2 score is :- {a}'.format(a=r2))"
   ]
  },
  {
   "cell_type": "markdown",
   "metadata": {},
   "source": [
    "3. Report Mean Squared Error(MSE), Mean-Absolute-Error(MAE), R-squared (R2) score in a tabular form."
   ]
  },
  {
   "cell_type": "code",
   "execution_count": 9,
   "metadata": {},
   "outputs": [
    {
     "name": "stdout",
     "output_type": "stream",
     "text": [
      "r2 score is :- 0.8656010263045751\n",
      "MAE metric : 0.13947561507936507\n",
      "MSE metric : 365.2794027783447\n"
     ]
    }
   ],
   "source": [
    "# report a table\n",
    "r2 = r2_score(Y_test, predicted)\n",
    "print('r2 score is :- {a}'.format(a=r2))\n",
    "print(MAE(Y_test, predicted))\n",
    "print(MSE(Y_test, predicted))"
   ]
  },
  {
   "cell_type": "markdown",
   "metadata": {},
   "source": [
    "4.  a) Choose different K values (k=2,3,5,7,11,16) and experiment. Plot a graph showing R2 score vs k."
   ]
  },
  {
   "cell_type": "code",
   "execution_count": 10,
   "metadata": {},
   "outputs": [],
   "source": [
    "# plot\n",
    "k_values = np.array([2, 3, 5, 7, 11, 16, 19, 23, 27, 39, 43, 47])\n",
    "r2scores = []\n",
    "mse = []\n",
    "mae = []\n",
    "for k in k_values:\n",
    "    predicted = regressor.do_regression(dists, k)\n",
    "    r2scores.append(r2_score(Y_test, predicted))\n",
    "    mse.append(mean_squared_error(Y_test, predicted))\n",
    "    mae.append(mean_absolute_error(Y_test, predicted))\n",
    "r2scores = np.array(r2scores)\n",
    "mae = np.array(mae)\n",
    "mse = np.array(mse)"
   ]
  },
  {
   "cell_type": "code",
   "execution_count": 11,
   "metadata": {},
   "outputs": [
    {
     "data": {
      "image/png": "[encoded data removed]",
      "text/plain": [
       "<Figure size 864x288 with 1 Axes>"
      ]
     },
     "metadata": {},
     "output_type": "display_data"
    }
   ],
   "source": [
    "plt.style.use('ggplot')\n",
    "plt.figure(figsize=(12, 4))\n",
    "plt.plot(k_values, r2scores, color='red', marker='o')\n",
    "plt.title('r2_scores Vs k_values', fontsize=14)\n",
    "plt.xlabel('k_value', fontsize=14)\n",
    "plt.ylabel('score', fontsize=14)\n",
    "plt.grid(True)\n",
    "plt.ylim(0,1)\n",
    "plt.show()"
   ]
  },
  {
   "cell_type": "code",
   "execution_count": 12,
   "metadata": {},
   "outputs": [
    {
     "data": {
      "image/png": "[encoded data removed]",
      "text/plain": [
       "<Figure size 864x288 with 1 Axes>"
      ]
     },
     "metadata": {},
     "output_type": "display_data"
    }
   ],
   "source": [
    "plt.figure(figsize=(12, 4))\n",
    "plt.plot(k_values, mse, color='red', marker='o')\n",
    "plt.title('MSE Vs k_values', fontsize=14)\n",
    "plt.xlabel('k_value', fontsize=14)\n",
    "plt.ylabel('MSE', fontsize=14)\n",
    "plt.grid(True)\n",
    "plt.show()"
   ]
  },
  {
   "cell_type": "code",
   "execution_count": 13,
   "metadata": {},
   "outputs": [
    {
     "data": {
      "image/png": "[encoded data removed]",
      "text/plain": [
       "<Figure size 864x288 with 1 Axes>"
      ]
     },
     "metadata": {},
     "output_type": "display_data"
    }
   ],
   "source": [
    "plt.figure(figsize=(12, 4))\n",
    "plt.plot(k_values, mae, color='red', marker='o')\n",
    "plt.title('MAE Vs k_values', fontsize=14)\n",
    "plt.xlabel('k_value', fontsize=14)\n",
    "plt.ylabel('MAE', fontsize=14)\n",
    "plt.grid(True)\n",
    "plt.show()"
   ]
  },
  {
   "cell_type": "markdown",
   "metadata": {},
   "source": [
    "4. b) Are the R-squared scores the same? Why / Why not? How do we identify the best K? Suggest a computational procedure, with a logical explanation."
   ]
  },
  {
   "cell_type": "markdown",
   "metadata": {},
   "source": [
    "#### Explanation\n",
    "The R-squared improves a little initially but remains the same after that.\n",
    "This is because R-squared determines the how better our model explains the data, so when increasing K value initially, the R-squared score improves for points which were mixed up. But on taking more number of neighbours the values can be predicted with less noise as the frequency of most frequent class increases relatively compared to the other classes. This reduces noise in the prediction and improves r2_score. \n",
    "\n",
    "Cross Validation for best K :- we can use leave one out cross validation and take the average accuracies for each K. we can compare these values to find the best K value. other metrics can also be used instead of simple accuracy."
   ]
  },
  {
   "cell_type": "markdown",
   "metadata": {},
   "source": [
    "5. a) Also, report the performance of scikit-learn’s kNN regression algorithm.  "
   ]
  },
  {
   "cell_type": "code",
   "execution_count": 14,
   "metadata": {},
   "outputs": [
    {
     "name": "stdout",
     "output_type": "stream",
     "text": [
      "r2 score is :- 0.861591539658843\n",
      "MAE metric : 0.14193369668312106\n",
      "MSE metric : 376.17668009476074\n"
     ]
    }
   ],
   "source": [
    "# scikit-learn KNN Regressor\n",
    "nn = KNeighborsRegressor(7, p=2, weights='distance')\n",
    "nn.fit(X_train, Y_train)\n",
    "y_pred = nn.predict(X_test)\n",
    "r2 = r2_score(Y_test, y_pred)\n",
    "print('r2 score is :- {a}'.format(a=r2))\n",
    "print(MAE(Y_test, y_pred))\n",
    "print(MSE(Y_test, y_pred))"
   ]
  },
  {
   "cell_type": "markdown",
   "metadata": {},
   "source": [
    "5. b) Compare it with the algorithm you built. [ you can use complexities, R2 score etc..]"
   ]
  },
  {
   "cell_type": "code",
   "execution_count": 15,
   "metadata": {},
   "outputs": [
    {
     "name": "stdout",
     "output_type": "stream",
     "text": [
      "\t\t  r2_score    MSE    MAE    \n",
      "My Model            0.865  365.279  0.139  \n",
      "scikit-learn model  0.861  376.176  0.142  \n"
     ]
    }
   ],
   "source": [
    "# Comparison\n",
    "data = [[0.865, 365.279, 0.139],\n",
    "       [0.861, 376.176, 0.142]]\n",
    "columns = ('r2_score', 'MSE', 'MAE')\n",
    "rows = ['My Model          ', 'scikit-learn model']\n",
    "print('\\t\\t  ', end='')\n",
    "for col in columns:\n",
    "    print(col, end='    ')\n",
    "print()\n",
    "for i in range(2):\n",
    "    print(rows[i], end='  ')\n",
    "    for val in data[i]:\n",
    "        print(val, end='  ')\n",
    "    print()"
   ]
  },
  {
   "cell_type": "markdown",
   "metadata": {},
   "source": [
    "6. From the above experiments, what do you think are advantages and disadvantages of the knn regression algorithm?  report this  along with the experiments\n"
   ]
  },
  {
   "cell_type": "markdown",
   "metadata": {},
   "source": [
    "\n",
    "#### Advantages of KNN\n",
    "\n",
    "1. No Training Period: KNN is called Lazy Learner (Instance based learning). It does not learn anything in the training period. It does not derive any discriminative function from the training data. In other words, there is no training period for it. It stores the training dataset and learns from it only at the time of making real time predictions. This makes the KNN algorithm much faster than other algorithms that require training e.g. SVM, Linear Regression etc. train function of **KNNRegression** class just stores the data. \n",
    "\n",
    "2. Since the KNN algorithm requires no training before making predictions, new data can be added seamlessly which will not impact the accuracy of the algorithm. we can add new data by creating another new method **add_data** which will append new data to the existing one.\n",
    "\n",
    "3. KNN is very easy to implement. There are only two parameters required to implement KNN i.e. the value of K and the distance function (e.g. Euclidean or Manhattan etc.)\n",
    "\n",
    "#### Disadvantages of KNN\n",
    "\n",
    "1. Does not work well with large dataset: In large datasets, the cost of calculating the distance between the new point and each existing points is huge which degrades the performance of the algorithm. My machines hangs when the whole dataset is taken, that is the reason for considering only a subset of it.\n",
    "\n",
    "2. Does not work well with high dimensions: The KNN algorithm doesn't work well with high dimensional data because with large number of dimensions, it becomes difficult for the algorithm to calculate the distance in each dimension. In the below Classification task KNN performs very poorly on CIFAR-10 dataset by giving around 28% accuracy.\n",
    "\n",
    "3. Need feature scaling: We need to do feature scaling (standardization and normalization) before applying KNN algorithm to any dataset. If we don't do so, KNN may generate wrong predictions. (explanation was provided in one of the above answers)\n",
    "\n"
   ]
  },
  {
   "cell_type": "markdown",
   "metadata": {},
   "source": [
    "# **2)** **Linear Regression**\n",
    "\n",
    "Dataset - same as above (Diamond Price Detection)\n"
   ]
  },
  {
   "cell_type": "markdown",
   "metadata": {},
   "source": [
    "2a) Implement a Linear Regression model (from the scratch) taking suitable independent variables from the dataset. \n",
    "\n",
    "Report and Calculate the error obtained.\n",
    "\n"
   ]
  },
  {
   "cell_type": "code",
   "execution_count": 12,
   "metadata": {},
   "outputs": [],
   "source": [
    "# Linear Regression\n",
    "class LinearRegression:\n",
    "    def __init__(self, train_data, Y):\n",
    "        self.data = train_data  # It is assumed that data is normalized and shuffled (rows, cols)\n",
    "        self.Y = Y[:, np.newaxis]\n",
    "        self.b = np.random.randn()\n",
    "        print(self.data.shape)\n",
    "        self.cols = self.data.shape[1]\n",
    "        self.rows = self.data.shape[0]\n",
    "        self.weights = np.random.randn(self.cols, 1)  # Initialising weights to 1, shape (cols, 1)\n",
    "        self.num_iterations = 1000\n",
    "        self.learning_rate = 0.0001\n",
    "        self.batch_size = 100\n",
    "        \n",
    "    def add_column(self):\n",
    "        y = np.ones(self.rows)[:, np.newaxis]\n",
    "        self.data = np.hstack((self.data, y))\n",
    "\n",
    "    def calc_mini_batches(self):\n",
    "        new_data = np.hstack((self.data, self.Y))\n",
    "        np.random.shuffle(new_data)\n",
    "    \n",
    "        rem = self.rows % self.batch_size\n",
    "        num = self.rows // self.batch_size\n",
    "        till = self.batch_size * num\n",
    "        if num > 0:\n",
    "            dd = np.array(np.vsplit(new_data[ :till, :], num))\n",
    "            X_batch = dd[:, :, :-1]\n",
    "            Y_batch = dd[:, :, -1]\n",
    "        \n",
    "        if rem != 0:\n",
    "            curr_batch = new_data[till: , :]\n",
    "            diff = self.batch_size - rem\n",
    "            temp = np.zeros((diff, self.cols+1)) # appending with zeros so that the sizes can be matched\n",
    "            curr_batch = np.concatenate((curr_batch, temp))[np.newaxis, :, :]\n",
    "            if num > 0:\n",
    "                X_batch = np.concatenate((X_batch, curr_batch[:, :, :-1]))\n",
    "                Y_batch = np.concatenate((Y_batch, curr_batch[:, :, -1]))\n",
    "            else:\n",
    "                X_batch = curr_batch[:, :, :-1]\n",
    "                Y_batch = curr_batch[:, :, -1]\n",
    "            \n",
    "        return X_batch, Y_batch\n",
    "\n",
    "    def update_weights(self, X, Y):\n",
    "        Y_Predicted = np.dot(X, self.weights) + self.b  # Remember that X has data stored along the row for one sample\n",
    "        gradient = np.dot(np.transpose(X), Y_Predicted - Y)\n",
    "        self.b = self.b - np.sum(Y_Predicted - Y)/(X.shape[0])\n",
    "        self.weights = self.weights - (self.learning_rate * gradient)/(X.shape[0]) # vector subtraction\n",
    "    \n",
    "    def print_error(self):\n",
    "        Y_Predicted = self.predict(self.data)\n",
    "        val = np.sum((Y_Predicted - self.Y) ** 2) / self.rows\n",
    "        print(val/1000)\n",
    "\n",
    "    def gradient_descent(self):\n",
    "        for j in range(self.num_iterations):\n",
    "            X, Y = self.calc_mini_batches()\n",
    "            num_batches = X.shape[0]\n",
    "            for i in range(num_batches):\n",
    "                self.update_weights(X[i, :, :], Y[i, :][:, np.newaxis])  # update the weights\n",
    "            if j%20 == 0:\n",
    "                self.print_error()\n",
    "    \n",
    "    def predict(self, X):\n",
    "        # X is 2 dimensional array, samples along the rows\n",
    "        return np.dot(X, self.weights) + self.b"
   ]
  },
  {
   "cell_type": "code",
   "execution_count": 13,
   "metadata": {},
   "outputs": [
    {
     "name": "stdout",
     "output_type": "stream",
     "text": [
      "(30000, 9)\n",
      "13871.592543154837\n",
      "3389.5556361298313\n",
      "2658.3887487808734\n",
      "2592.8892399568936\n",
      "2494.661323514619\n",
      "2535.3601492465546\n",
      "3134.8185882277176\n",
      "2825.4674048644833\n",
      "2581.294427390458\n",
      "2487.907547141201\n",
      "2446.044815629971\n",
      "2422.2558149137108\n",
      "2606.8470281155182\n",
      "2617.870022516387\n",
      "2529.244099428066\n",
      "2424.950512905843\n",
      "3319.968403354437\n",
      "2451.8492839870387\n",
      "2390.483773597915\n",
      "2311.393174564743\n",
      "2310.0076536090082\n",
      "2386.795777866108\n",
      "2427.234169493706\n",
      "2639.2629445863827\n",
      "2281.9839162167377\n",
      "2356.3577291773977\n",
      "2242.8141026288517\n",
      "2237.233075401514\n",
      "2224.415674778949\n",
      "2230.919481476948\n",
      "2280.6495615544063\n",
      "2356.1782086562157\n",
      "2299.5730961831296\n",
      "2218.6571449780326\n",
      "2469.4508784061477\n",
      "2163.2617882752743\n",
      "2207.1032746925703\n",
      "2183.2046518177694\n",
      "2708.315133459153\n",
      "2136.575213290511\n",
      "2412.3942642846464\n",
      "2129.6507400247783\n",
      "2111.814277212488\n",
      "2186.489308733694\n",
      "2124.2392745376615\n",
      "2907.376164687212\n",
      "2133.775673886222\n",
      "2074.3131199642407\n",
      "2194.6007650523406\n",
      "2154.805702171385\n"
     ]
    }
   ],
   "source": [
    "X_train, X_test, Y_train, Y_test = give_data(['price'])\n",
    "linear_reg = LinearRegression(X_train, Y_train)\n",
    "linear_reg.gradient_descent()"
   ]
  },
  {
   "cell_type": "code",
   "execution_count": 9,
   "metadata": {},
   "outputs": [
    {
     "name": "stdout",
     "output_type": "stream",
     "text": [
      "shape of X_train = (30000, 9)\n",
      "RSME metric : 0.2560424613852593\n",
      "r2 score : 0.8552741844204133\n"
     ]
    }
   ],
   "source": [
    "print('shape of X_train = {a}'.format(a=X_train.shape))\n",
    "predicted = linear_reg.predict(X_test)\n",
    "predicted = predicted.flatten()\n",
    "print(RSME(Y_test, predicted))\n",
    "print('r2 score : ', end='')\n",
    "print(r2_score(Y_test, predicted))"
   ]
  },
  {
   "cell_type": "markdown",
   "metadata": {},
   "source": [
    "2b) What are the best suitable features you used to predict the price of the dataset and Why?\n",
    "\n",
    "Idea: Use Correlation to get the suitable features and Report the values accordingly."
   ]
  },
  {
   "cell_type": "code",
   "execution_count": 10,
   "metadata": {},
   "outputs": [
    {
     "data": {
      "text/plain": [
       "['carat', 'price', 'x', 'y', 'z']"
      ]
     },
     "execution_count": 10,
     "metadata": {},
     "output_type": "execute_result"
    }
   ],
   "source": [
    "#code for Correlation between features and the Diamond Price.\n",
    "headers = [\"carat\",\t\"cut\",\"color\",\"clarity\",\"depth\",\"table\",\"price\",\"x\",\"y\",\"z\"]\n",
    "data = pd.read_csv('diamonds.csv', na_values='?',    \n",
    "         header=None,  names = headers) \n",
    "data = data.reset_index(drop=True)\n",
    "data = data.iloc[1:]\n",
    "cut_dict = {'Fair':1, 'Good':2, 'Very Good':3, 'Premium':4, 'Ideal':5}\n",
    "color_dict = {'J':1, 'I':2, 'H':3, 'G':4, 'F':5, 'E':6, 'D':7}\n",
    "clarity_dict = {'I1':1, 'SI2':2, 'SI1':3, 'VS2': 4, 'VS1':5, 'VVS2':6, 'VVS1':7, 'IF':8}\n",
    "\n",
    "create_nums = {'cut' : cut_dict, 'clarity':clarity_dict, 'color':color_dict }\n",
    "\n",
    "data.replace(create_nums, inplace=True)\n",
    "\n",
    "data = data.astype(np.float64, copy=True)\n",
    "mat = data.corr().abs()\n",
    "mat.index[mat['price'] >= 0.80].tolist()"
   ]
  },
  {
   "cell_type": "markdown",
   "metadata": {},
   "source": [
    "Explanation for 2b) - "
   ]
  },
  {
   "cell_type": "markdown",
   "metadata": {},
   "source": [
    "2c) Use the module Linear Regression from sklearn to predict the price of diamonds(considering the same attributes as before) and compare the result obtained with the above. \n"
   ]
  },
  {
   "cell_type": "code",
   "execution_count": 6,
   "metadata": {},
   "outputs": [
    {
     "name": "stdout",
     "output_type": "stream",
     "text": [
      "shape of X_train = (30000, 4)\n",
      "RSME metric : 0.26495218097313206\n",
      "r2 score : 0.8450266517452688\n"
     ]
    }
   ],
   "source": [
    "# import sklearn model\n",
    "from sklearn.linear_model import LinearRegression\n",
    "X_train, X_test, Y_train, Y_test = give_data(['price', 'depth', 'table', 'cut', 'clarity', 'color'])\n",
    "print('shape of X_train = {a}'.format(a=X_train.shape))\n",
    "lin_reg = LinearRegression().fit(X_train, Y_train)\n",
    "predicted = lin_reg.predict(X_test)\n",
    "print(RSME(Y_test, predicted))\n",
    "print('r2 score : ', end='')\n",
    "print(r2_score(Y_test, predicted))"
   ]
  },
  {
   "cell_type": "markdown",
   "metadata": {},
   "source": [
    "2d) Now, using the whole dataset, predict the price of the Diamonds using the module of Linear Regression from sklearn. Report the changes you have observed compared to before? "
   ]
  },
  {
   "cell_type": "code",
   "execution_count": 7,
   "metadata": {},
   "outputs": [
    {
     "name": "stdout",
     "output_type": "stream",
     "text": [
      "shape of X_train = (30000, 9)\n",
      "RSME metric : 0.21124350441089815\n",
      "r2 score : 0.90148808856628\n"
     ]
    }
   ],
   "source": [
    "X_train, X_test, Y_train, Y_test = give_data(['price'])\n",
    "print('shape of X_train = {a}'.format(a=X_train.shape))\n",
    "lin_reg = LinearRegression().fit(X_train, Y_train)\n",
    "predicted = lin_reg.predict(X_test)\n",
    "print(RSME(Y_test, predicted))\n",
    "print('r2 score : ', end='')\n",
    "print(r2_score(Y_test, predicted))"
   ]
  },
  {
   "cell_type": "markdown",
   "metadata": {},
   "source": [
    "**Adding extra features did it make the prediction better or worse.Comment?**"
   ]
  },
  {
   "cell_type": "markdown",
   "metadata": {},
   "source": [
    "Adding extra features improved the predictions, the r2 score increased from 0.84 to 0.90 and Root mean squared error reduced from 0.26 to 0.21,\n",
    "The reason is adding features distinguishes between samples which have almost idenctical values which we have considered in our dataset according to correlation with price. for example the clarity and cut of the diamonds does influence its price when all other features have identical values. "
   ]
  },
  {
   "cell_type": "markdown",
   "metadata": {},
   "source": [
    "2e) Now, compare the algorithms KNN regression and Linear Regression. What are the differences you have observed? Which is better and why. Your statements should be backed up with statistics. \n",
    "\n"
   ]
  },
  {
   "cell_type": "markdown",
   "metadata": {},
   "source": [
    "Explanation - "
   ]
  },
  {
   "cell_type": "markdown",
   "metadata": {},
   "source": [
    "KNN regression is better as can be seen from the below graph it also has the added advantage that it always predicts a reasonable value. Linear regression can give negative price value for diamond which is absurd, but this is not the case with KNN Regression. The r2 score is also better in case of KNN regression and RSME is lower."
   ]
  },
  {
   "cell_type": "markdown",
   "metadata": {},
   "source": [
    "2f) Plot the predicted values from KNN regression, Linear Regression and Actual Diamond Price."
   ]
  },
  {
   "cell_type": "code",
   "execution_count": 14,
   "metadata": {},
   "outputs": [
    {
     "data": {
      "image/png": "[encoded data removed]",
      "text/plain": [
       "<Figure size 1296x720 with 1 Axes>"
      ]
     },
     "metadata": {
      "needs_background": "light"
     },
     "output_type": "display_data"
    }
   ],
   "source": [
    "# plot\n",
    "regressor = KNNRegression()\n",
    "regressor.train(X_train, Y_train)\n",
    "dists = regressor.dist_matrix(X_test)\n",
    "predicted_knn = regressor.do_regression(dists, k=5)\n",
    "predicted_linear = linear_reg.predict(X_test)\n",
    "xx = np.linspace(1,X_test.shape[0], X_test.shape[0])\n",
    "\n",
    "perm = Y_test.argsort()\n",
    "Y_test_sorted = np.sort(Y_test)    # Sort the Y_test Prices\n",
    "predicted_knn = predicted_knn[perm] # shuffle the array in accordance with Y_test\n",
    "predicted_linear = predicted_linear[perm]\n",
    "\n",
    "plt.figure(figsize=(18,10))\n",
    "plt.scatter(xx, predicted_knn, marker='o')\n",
    "plt.scatter(xx, predicted_linear, marker='o')\n",
    "plt.scatter(xx, Y_test_sorted, marker='o')\n",
    "plt.title('Prices', fontsize=14)\n",
    "plt.xlabel('samples', fontsize=14)\n",
    "plt.ylabel('predictions', fontsize=14)\n",
    "plt.legend(['KNN Regression', 'Linear Regression', 'Actual'])\n",
    "plt.grid(True)\n",
    "plt.show()"
   ]
  },
  {
   "cell_type": "markdown",
   "metadata": {},
   "source": [
    "#**KNN Classifier**"
   ]
  },
  {
   "cell_type": "markdown",
   "metadata": {},
   "source": [
    "In this problem you are required to train, test and validate a K-Nearest Neighbor Classifier on the famous CIFAR-10 dataset. The next few cells will guide you through the process. Follow along..."
   ]
  },
  {
   "cell_type": "code",
   "execution_count": 15,
   "metadata": {},
   "outputs": [],
   "source": [
    "# Run some setup code for this notebook.\n",
    "\n",
    "import random\n",
    "import numpy as np\n",
    "import matplotlib.pyplot as plt\n",
    "import os\n",
    "\n",
    "\n",
    "from __future__ import print_function\n",
    "\n",
    "from builtins import range\n",
    "from six.moves import cPickle as pickle\n",
    "from imageio import imread\n",
    "import platform\n",
    "\n",
    "# This is a bit of magic to make matplotlib figures appear inline in the notebook\n",
    "# rather than in a new window.\n",
    "%matplotlib inline\n",
    "plt.rcParams['figure.figsize'] = (10.0, 8.0) # set default size of plots\n",
    "plt.rcParams['image.interpolation'] = 'nearest'\n",
    "plt.rcParams['image.cmap'] = 'gray'\n",
    "\n",
    "# Some more magic so that the notebook will reload external python modules;\n",
    "# see http://stackoverflow.com/questions/1907993/autoreload-of-modules-in-ipython\n",
    "%load_ext autoreload\n",
    "%autoreload 2"
   ]
  },
  {
   "cell_type": "code",
   "execution_count": null,
   "metadata": {},
   "outputs": [],
   "source": [
    "# Download the dataset\n",
    "!wget http://www.cs.toronto.edu/~kriz/cifar-10-python.tar.gz -O cifar-10-python.tar.gz\n",
    "!tar -xzvf cifar-10-python.tar.gz\n",
    "!rm cifar-10-python.tar.gz"
   ]
  },
  {
   "cell_type": "code",
   "execution_count": null,
   "metadata": {},
   "outputs": [],
   "source": [
    "# This cell loads the training and testing dataset. Please note the variables at\n",
    "# the end of the cell as you would require them to access the train/test data \n",
    "# and labels throughout the assignment\n",
    "def load_pickle(f):\n",
    "    version = platform.python_version_tuple()\n",
    "    if version[0] == '2':\n",
    "        return  pickle.load(f)\n",
    "    elif version[0] == '3':\n",
    "        return  pickle.load(f, encoding='latin1')\n",
    "    raise ValueError(\"invalid python version: {}\".format(version))\n",
    "  \n",
    "def load_CIFAR_batch(filename):\n",
    "    \"\"\" load single batch of cifar \"\"\"\n",
    "    with open(filename, 'rb') as f:\n",
    "        datadict = load_pickle(f)\n",
    "        X = datadict['data']\n",
    "        Y = datadict['labels']\n",
    "        X = X.reshape(10000, 3, 32, 32).transpose(0,2,3,1).astype(\"float\")\n",
    "        Y = np.array(Y)\n",
    "        return X, Y\n",
    "\n",
    "def load_CIFAR10(ROOT):\n",
    "    \"\"\" load all of cifar \"\"\"\n",
    "    xs = []\n",
    "    ys = []\n",
    "    for b in range(1,6):\n",
    "        f = os.path.join(ROOT, 'data_batch_%d' % (b, ))\n",
    "        X, Y = load_CIFAR_batch(f)\n",
    "        xs.append(X)\n",
    "        ys.append(Y)\n",
    "    Xtr = np.concatenate(xs)\n",
    "    Ytr = np.concatenate(ys)\n",
    "    del X, Y\n",
    "    Xte, Yte = load_CIFAR_batch(os.path.join(ROOT, 'test_batch'))\n",
    "    return Xtr, Ytr, Xte, Yte\n",
    "\n",
    "\n",
    "cifar10_dir = 'cifar-10-batches-py'\n",
    "\n",
    "# Cleaning up variables to prevent loading data multiple times\n",
    "try:\n",
    "   del X_train, y_train\n",
    "   del X_test, y_test\n",
    "   print('Clear previously loaded data.')\n",
    "except:\n",
    "   pass\n",
    "\n",
    "X_train, y_train, X_test, y_test = load_CIFAR10(cifar10_dir)\n",
    "\n",
    "# As a sanity check, we print out the size of the training and test data.\n",
    "print('Training data shape: ', X_train.shape)\n",
    "print('Training labels shape: ', y_train.shape)\n",
    "print('Test data shape: ', X_test.shape)\n",
    "print('Test labels shape: ', y_test.shape)"
   ]
  },
  {
   "cell_type": "markdown",
   "metadata": {},
   "source": [
    "Next we visualize the CIFAR-10 dataset. Although these functions are being written for you, we highly recommend you go through the code and make yourself familiar as these are things you will be required to do very often when working on AI/ML projects"
   ]
  },
  {
   "cell_type": "code",
   "execution_count": null,
   "metadata": {},
   "outputs": [],
   "source": [
    "# Visualize some examples from the dataset.\n",
    "# We show a few examples of training images from each class.\n",
    "classes = ['plane', 'car', 'bird', 'cat', 'deer', 'dog', 'frog', 'horse', 'ship', 'truck']\n",
    "num_classes = len(classes)\n",
    "samples_per_class = 7\n",
    "for y, cls in enumerate(classes):\n",
    "    idxs = np.flatnonzero(y_train == y)\n",
    "    idxs = np.random.choice(idxs, samples_per_class, replace=False)\n",
    "    for i, idx in enumerate(idxs):\n",
    "        plt_idx = i * num_classes + y + 1\n",
    "        plt.subplot(samples_per_class, num_classes, plt_idx)\n",
    "        plt.imshow(X_train[idx].astype('uint8'))\n",
    "        plt.axis('off')\n",
    "        if i == 0:\n",
    "            plt.title(cls)\n",
    "plt.show()"
   ]
  },
  {
   "cell_type": "markdown",
   "metadata": {},
   "source": [
    "In the next cell we flatten each image into a single dimensional vector so that it is easy to process. You should be able to reason about the dimensions comfortable."
   ]
  },
  {
   "cell_type": "code",
   "execution_count": null,
   "metadata": {},
   "outputs": [],
   "source": [
    "# Subsample the data for more efficient code execution in this exercise\n",
    "num_training = 5000\n",
    "mask = list(range(num_training))\n",
    "X_train = X_train[mask]\n",
    "y_train = y_train[mask]\n",
    "\n",
    "num_test = 500\n",
    "mask = list(range(num_test))\n",
    "X_test = X_test[mask]\n",
    "y_test = y_test[mask]\n",
    "\n",
    "# Reshape the image data into rows\n",
    "X_train = np.reshape(X_train, (X_train.shape[0], -1))\n",
    "X_test = np.reshape(X_test, (X_test.shape[0], -1))\n",
    "print(X_train.shape, X_test.shape)\n",
    "print(y_train.shape, y_test.shape)"
   ]
  },
  {
   "cell_type": "markdown",
   "metadata": {},
   "source": [
    "In the next cell you are going to implement the main KNearestNeighbor class and keep adding functions to it as and when required in the subsequent steps."
   ]
  },
  {
   "cell_type": "code",
   "execution_count": 1,
   "metadata": {},
   "outputs": [],
   "source": [
    "# You will keep coming back to this cell to add more functions as and when\n",
    "# required. Right now it is very simple!\n",
    "class KNearestNeighbor:\n",
    "    ''' L2 distance is used '''\n",
    "    def __init__(self):\n",
    "        self.data = None\n",
    "        self.Y = None\n",
    "    \n",
    "    def train(self, data, Y):\n",
    "        self.data = data  # numpy array of two dimension, storing samples along axis=0\n",
    "        self.Y = Y  # numpy array of one dimension\n",
    "\n",
    "    def give_dist(self, X, Y, p=2):\n",
    "        dist = np.sum(np.abs(X - Y) ** p)\n",
    "        if p == 2:\n",
    "            return math.sqrt(dist)\n",
    "        else:\n",
    "            return dist\n",
    "    \n",
    "    def dist_matrix_two_loops(self, X_test):\n",
    "        num_test = X_test.shape[0]\n",
    "        num_train = self.data.shape[0]\n",
    "        dist_mat = []\n",
    "        for i in range(num_test):\n",
    "            temp = []\n",
    "            for j in range(num_train):\n",
    "                dist = self.give_dist(self.data[j, :], X_test[i, :])\n",
    "                temp.append(dist)\n",
    "            dist_mat.append(temp)\n",
    "        return dist_mat\n",
    "    \n",
    "    def dist_matrix_one_loop(self, X_test):\n",
    "        num_test = X_test.shape[0]\n",
    "        num_train = self.data.shape[0]\n",
    "        dist_mat = np.zeros((num_test, num_train))\n",
    "        for i in range(num_test):\n",
    "            dist_mat[i, :] = np.sum((self.data - X_test[i, :]) ** 2, axis=1)\n",
    "        return dist_mat\n",
    "    \n",
    "    def dist_matrix(self, X):\n",
    "        dists = -2 * np.dot(X, self.data.T) + np.sum(self.data**2, axis=1) + np.sum(X**2, axis=1)[:, np.newaxis]\n",
    "        return dists\n",
    "\n",
    "    def predict_labels(self, dist_mat, k=2):\n",
    "        indices = np.argpartition(dist_mat, k)\n",
    "        indices = indices[:, :k]\n",
    "        labels = np.take(self.Y, indices)\n",
    "        prediction = []\n",
    "        for row in labels:\n",
    "            values, counts = np.unique(row, return_counts=True)\n",
    "            ind = np.argmax(counts)\n",
    "            prediction.append(values[ind])\n",
    "        return prediction"
   ]
  },
  {
   "cell_type": "markdown",
   "metadata": {},
   "source": [
    "Go back to KNearestNeighbor class and add a method to train the classifier. Your function will be called as below. In KNN classifier, this step is a simple memorization of the training data."
   ]
  },
  {
   "cell_type": "code",
   "execution_count": null,
   "metadata": {},
   "outputs": [],
   "source": [
    "# Make sure to add train() in the classifier class before executing this cell\n",
    "classifier = KNearestNeighbor()\n",
    "classifier.train(X_train, y_train)"
   ]
  },
  {
   "cell_type": "markdown",
   "metadata": {},
   "source": [
    "Go back to KNearestNeighbor class and add a method to compute distances between each pair of test image and train image. You can use two loops to do this. Remember we are using standard L-2 distance metric. Precisely your method should return a distance matrix($D$) where $D(i,j)$ = **L-2** distance between the $i^{th}$ test image and the $j^{th}$ train image. Your function will be called as below"
   ]
  },
  {
   "cell_type": "code",
   "execution_count": null,
   "metadata": {},
   "outputs": [],
   "source": [
    "# Make sure to add compute_distances_two_loops() in the classifier class \n",
    "# before executing this cell\n",
    "dists = classifier.dist_matrix(X_test)\n",
    "print(dists.shape)"
   ]
  },
  {
   "cell_type": "markdown",
   "metadata": {},
   "source": [
    "Next implement the function to predict labels. Again go back to the KNearestNeighbor class cell. Your function will be called as below"
   ]
  },
  {
   "cell_type": "code",
   "execution_count": null,
   "metadata": {},
   "outputs": [],
   "source": [
    "# Make sure to add predict_labels() in the classifier class \n",
    "# before executing this cell\n",
    "y_test_pred = classifier.predict_labels(dists, k=5)\n",
    "\n",
    "# Compute and print the fraction of correctly predicted examples\n",
    "num_correct = np.sum(y_test_pred == y_test)\n",
    "accuracy = float(num_correct) / num_test\n",
    "print('Got %d / %d correct => accuracy: %f' % (num_correct, num_test, accuracy))"
   ]
  },
  {
   "cell_type": "code",
   "execution_count": null,
   "metadata": {},
   "outputs": [],
   "source": [
    "# Use this cell to compute accuracies for k = 3, 5, 7\n",
    "y_test_pred = classifier.predict_labels(dists, k=1)\n",
    "num_correct = np.sum(y_test_pred == y_test)\n",
    "accuracy = float(num_correct) / num_test\n",
    "print('Got %d / %d correct => accuracy: %f  k: %d' % (num_correct, num_test, accuracy, 1))\n",
    "\n",
    "y_test_pred = classifier.predict_labels(dists, k=3)\n",
    "num_correct = np.sum(y_test_pred == y_test)\n",
    "accuracy = float(num_correct) / num_test\n",
    "print('Got %d / %d correct => accuracy: %f  k: %d' % (num_correct, num_test, accuracy, 3))\n",
    "\n",
    "y_test_pred = classifier.predict_labels(dists, k=5)\n",
    "num_correct = np.sum(y_test_pred == y_test)\n",
    "accuracy = float(num_correct) / num_test\n",
    "print('Got %d / %d correct => accuracy: %f  k: %d' % (num_correct, num_test, accuracy, 5))\n",
    "\n",
    "y_test_pred = classifier.predict_labels(dists, k=7)\n",
    "num_correct = np.sum(y_test_pred == y_test)\n",
    "accuracy = float(num_correct) / num_test\n",
    "print('Got %d / %d correct => accuracy: %f  k: %d' % (num_correct, num_test, accuracy, 7))"
   ]
  },
  {
   "cell_type": "markdown",
   "metadata": {},
   "source": [
    "Now we have a basic classifier ready but it is extremely inefficient. In Machine Learning writing vectorised code is one of the most important skills. \n",
    "\n",
    "Now you have to again go back to the KNearestNeighbor class cell and add functions to compute the distance matrix using:\n",
    "1.   single loop\n",
    "2.   no loops\n",
    "\n",
    "From here onwards we won't do as much hand holding as done before. You are expected to write all the code from scratch\n",
    "\n",
    "\n"
   ]
  },
  {
   "cell_type": "markdown",
   "metadata": {},
   "source": [
    "Next, you are required to tabulate the time taken to compute the distance matrix using each of the three above methods implemented for k = 1, 3, 5, 7."
   ]
  },
  {
   "cell_type": "code",
   "execution_count": null,
   "metadata": {},
   "outputs": [],
   "source": [
    "# Use this cell to present your timing results for computing distance matrix\n",
    "import time\n",
    "k_val = [1, 3, 5, 7]\n",
    "zero_loop = []\n",
    "one_loop = []\n",
    "two_loop = []\n",
    "for loop in range(3):\n",
    "    for k in k_val:\n",
    "        if loop == 0:\n",
    "            t_s = time.time()\n",
    "            dists = classifier.dist_matrix(X_test)\n",
    "            y_test_pred = classifier.predict_labels(dists, k)\n",
    "            t_f = time.time()\n",
    "            zero_loop.append(t_f - t_s)\n",
    "        elif loop == 1:\n",
    "            t_s = time.time()\n",
    "            dists = classifier.dist_matrix_one_loop(X_test)\n",
    "            y_test_pred = classifier.predict_labels(dists, k)\n",
    "            t_f = time.time()\n",
    "            one_loop.append(t_f - t_s)\n",
    "        else:\n",
    "            t_s = time.time()\n",
    "            dists = classifier.dist_matrix_two_loops(X_test)\n",
    "            y_test_pred = classifier.predict_labels(dists, k)\n",
    "            t_f = time.time()\n",
    "            two_loop.append(t_f - t_s)"
   ]
  },
  {
   "cell_type": "code",
   "execution_count": null,
   "metadata": {},
   "outputs": [],
   "source": [
    "plt.style.use('ggplot')\n",
    "plt.plot(k_val, zero_loop, marker='o')\n",
    "plt.plot(k_val, one_loop, marker='o')\n",
    "plt.plot(k_val, two_loop, marker='o')\n",
    "plt.title('time taken for matrix computation Vs k values', fontsize=14)\n",
    "plt.xlabel('k value', fontsize=14)\n",
    "plt.ylabel('time taken', fontsize=14)\n",
    "plt.legend(['no loop', 'one loop', 'two loops'])\n",
    "plt.grid(True)\n",
    "plt.show()\n",
    "print('Using no loops is around 200 times faster than using 2 loops')"
   ]
  },
  {
   "cell_type": "markdown",
   "metadata": {},
   "source": [
    "As you can see that in KNN algorithm it is important to tune the hyperparameter K. We will do this using Cross Validation Leave One Out approach. The idea is to split the train set into few folds(here we recommend you to set the fold number to 5). Then, for each value of K, we leave one of these folds out to evaluate performance but use the others to train. Repeat this by leaving each fold out once. You will get 5 accuracies in this case, one for leaving out each fold. Depending on the average accuracy decide on the optimal value of K. Report the same. We also expect you to present plots showing the average accuracy and standard deviation for each value of K."
   ]
  },
  {
   "cell_type": "code",
   "execution_count": null,
   "metadata": {},
   "outputs": [],
   "source": [
    "# Use this cell to implement Cross Validation\n",
    "\n",
    "XX = np.vstack((X_train, X_test))  # stacking the train and test data together \n",
    "YY = np.append(y_train, y_test)    # stacking the labels as well\n",
    "rows = XX.shape[0]\n",
    "num = rows // 5\n",
    "batches = np.vsplit(XX, 5)         # split into 5 groups\n",
    "Y = np.zeros(rows).reshape(5, num) # same for Y\n",
    "for i in range(5):\n",
    "    Y[i, :] = np.array(YY[i*num: (i+1)*num])\n",
    "    \n",
    "k_values = np.array([1, 3, 5, 7, 23, 27, 39, 73, 117, 177, 233, 257, 297, 333])\n",
    "mean_accuracy = []\n",
    "for k in k_values:\n",
    "    accuracies = []\n",
    "    for i in range(5):\n",
    "        x_test = batches[i]\n",
    "        y_test = Y[i]\n",
    "        if i == 0:\n",
    "            curr_X = np.vstack((batches[1], batches[2], batches[3], batches[4]))\n",
    "            curr_Y = np.vstack((Y[1], Y[2], Y[3], Y[4]))\n",
    "        elif i == 1:\n",
    "            curr_X = np.vstack((batches[0], batches[2], batches[3], batches[4]))\n",
    "            curr_Y = np.vstack((Y[0], Y[2], Y[3], Y[4]))\n",
    "        elif i == 2:\n",
    "            curr_X = np.vstack((batches[0], batches[1], batches[3], batches[4]))\n",
    "            curr_Y = np.vstack((Y[0], Y[1], Y[3], Y[4]))\n",
    "        elif i == 3:\n",
    "            curr_X = np.vstack((batches[0], batches[1], batches[2], batches[4]))\n",
    "            curr_Y = np.vstack((Y[0], Y[1], Y[2], Y[4]))\n",
    "        else:\n",
    "            curr_X = np.vstack((batches[0], batches[1], batches[2], batches[3]))\n",
    "            curr_Y = np.vstack((Y[0], Y[1], Y[2], Y[3]))\n",
    "\n",
    "        classifier.train(curr_X, curr_Y)\n",
    "        dists = classifier.dist_matrix(x_test)\n",
    "        y_test_pred = classifier.predict_labels(dists, k)\n",
    "        num_correct = np.sum(y_test_pred == y_test)\n",
    "        accuracy = float(num_correct) / num\n",
    "        accuracies.append(accuracy)\n",
    "\n",
    "    accuracies = np.array(accuracies)\n",
    "    acc = np.mean(accuracies)\n",
    "    mean_accuracy.append(acc)     # append the mean accuracy"
   ]
  },
  {
   "cell_type": "code",
   "execution_count": null,
   "metadata": {},
   "outputs": [],
   "source": [
    "# Plot\n",
    "plt.style.use('ggplot')\n",
    "plt.plot(k_values, mean_accuracy, marker='o')\n",
    "plt.title('mean accuracy Vs k values', fontsize=14)\n",
    "plt.xlabel('k value', fontsize=14)\n",
    "plt.ylabel('mean accuracy', fontsize=14)\n",
    "plt.grid(True)\n",
    "plt.show()"
   ]
  }
 ],
 "metadata": {
  "kernelspec": {
   "display_name": "Python 3",
   "language": "python",
   "name": "python3"
  },
  "language_info": {
   "codemirror_mode": {
    "name": "ipython",
    "version": 3
   },
   "file_extension": ".py",
   "mimetype": "text/x-python",
   "name": "python",
   "nbconvert_exporter": "python",
   "pygments_lexer": "ipython3",
   "version": "3.9.0"
  }
 },
 "nbformat": 4,
 "nbformat_minor": 4
}
